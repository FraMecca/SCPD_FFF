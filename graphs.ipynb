{
 "cells": [
  {
   "cell_type": "code",
   "execution_count": 1,
   "metadata": {},
   "outputs": [],
   "source": [
    "import seaborn as sn\n",
    "import pandas as pd\n",
    "import numpy as np\n",
    "import matplotlib.pyplot as plt\n"
   ]
  },
  {
   "cell_type": "code",
   "execution_count": 2,
   "metadata": {},
   "outputs": [],
   "source": [
    "files = {}\n",
    "files['seq32'] = '/home/user/scpd_fff/bench/results2/seq32/time.prof'\n",
    "files['seq64'] = '/home/user/scpd_fff/bench/results2/seq64/time.prof'\n",
    "files['seq128'] = '/home/user/scpd_fff/bench/results2/seq128/time.prof'\n",
    "files['seq256'] = '/home/user/scpd_fff/bench/256/results/seq/time.prof'\n",
    "files['seq512'] = '/home/user/scpd_fff/bench/512/results/seq/time.prof'"
   ]
  },
  {
   "cell_type": "code",
   "execution_count": 3,
   "metadata": {},
   "outputs": [],
   "source": [
    "def get_res(resfile, k, key='dimension'):\n",
    "    import os\n",
    "    import sys\n",
    "    ret = {}\n",
    "\n",
    "    with open(resfile, \"r\") as f:\n",
    "        lines = [s.strip() for s in f.readlines()]\n",
    "    funcs = [\"GameAndFitness\", \"main\", \"crossover\", \"master\", \"slave\", \"manage_slaves\"]\n",
    "\n",
    "    for fn in funcs:\n",
    "        ll = list(filter(lambda s: fn in s, lines))\n",
    "        if ll:\n",
    "            ret[fn]  = sum([int(l[l.index(\":\")+1:]) for l in ll])\n",
    "        ret[key] = int(k)\n",
    "    return ret"
   ]
  },
  {
   "cell_type": "code",
   "execution_count": 4,
   "metadata": {},
   "outputs": [
    {
     "name": "stdout",
     "output_type": "stream",
     "text": [
      "seq512 /home/user/scpd_fff/bench/512/results/seq/time.prof\n",
      "seq32 /home/user/scpd_fff/bench/results2/seq32/time.prof\n",
      "seq64 /home/user/scpd_fff/bench/results2/seq64/time.prof\n",
      "seq128 /home/user/scpd_fff/bench/results2/seq128/time.prof\n",
      "seq256 /home/user/scpd_fff/bench/256/results/seq/time.prof\n"
     ]
    }
   ],
   "source": [
    "seqResults = {}\n",
    "for k,v in files.items():\n",
    "    print(k,v)\n",
    "    seqResults[k] = get_res(v,k[3:])\n",
    "seqResults = pd.DataFrame(seqResults).T\n",
    "seqResults= seqResults.sort_values(by='dimension')\n",
    "seqResults.loc['seq1024'] = seqResults.loc['seq512'].apply(lambda x:x*4)\n",
    "seqResults.loc['seq1024']['dimension'] = 1024\n",
    "seqResults.loc['seq2048'] = seqResults.loc['seq1024'].apply(lambda x:x*4)\n",
    "seqResults.loc['seq2048']['dimension'] = 2048"
   ]
  },
  {
   "cell_type": "code",
   "execution_count": 5,
   "metadata": {},
   "outputs": [
    {
     "data": {
      "text/html": [
       "<div>\n",
       "<style scoped>\n",
       "    .dataframe tbody tr th:only-of-type {\n",
       "        vertical-align: middle;\n",
       "    }\n",
       "\n",
       "    .dataframe tbody tr th {\n",
       "        vertical-align: top;\n",
       "    }\n",
       "\n",
       "    .dataframe thead th {\n",
       "        text-align: right;\n",
       "    }\n",
       "</style>\n",
       "<table border=\"1\" class=\"dataframe\">\n",
       "  <thead>\n",
       "    <tr style=\"text-align: right;\">\n",
       "      <th></th>\n",
       "      <th>GameAndFitness</th>\n",
       "      <th>crossover</th>\n",
       "      <th>dimension</th>\n",
       "      <th>main</th>\n",
       "    </tr>\n",
       "  </thead>\n",
       "  <tbody>\n",
       "    <tr>\n",
       "      <th>seq32</th>\n",
       "      <td>788170632841</td>\n",
       "      <td>801332826</td>\n",
       "      <td>32</td>\n",
       "      <td>787202109505</td>\n",
       "    </tr>\n",
       "    <tr>\n",
       "      <th>seq64</th>\n",
       "      <td>2906031184750</td>\n",
       "      <td>2846068753</td>\n",
       "      <td>64</td>\n",
       "      <td>2914316068621</td>\n",
       "    </tr>\n",
       "    <tr>\n",
       "      <th>seq128</th>\n",
       "      <td>11592018426673</td>\n",
       "      <td>11123131912</td>\n",
       "      <td>128</td>\n",
       "      <td>11618067687760</td>\n",
       "    </tr>\n",
       "    <tr>\n",
       "      <th>seq256</th>\n",
       "      <td>46240751572546</td>\n",
       "      <td>43730175402</td>\n",
       "      <td>256</td>\n",
       "      <td>46337018878324</td>\n",
       "    </tr>\n",
       "    <tr>\n",
       "      <th>seq512</th>\n",
       "      <td>184758961209706</td>\n",
       "      <td>173372053697</td>\n",
       "      <td>512</td>\n",
       "      <td>185134636278632</td>\n",
       "    </tr>\n",
       "    <tr>\n",
       "      <th>seq1024</th>\n",
       "      <td>739035844838824</td>\n",
       "      <td>693488214788</td>\n",
       "      <td>1024</td>\n",
       "      <td>740538545114528</td>\n",
       "    </tr>\n",
       "    <tr>\n",
       "      <th>seq2048</th>\n",
       "      <td>2956143379355296</td>\n",
       "      <td>2773952859152</td>\n",
       "      <td>2048</td>\n",
       "      <td>2962154180458112</td>\n",
       "    </tr>\n",
       "  </tbody>\n",
       "</table>\n",
       "</div>"
      ],
      "text/plain": [
       "           GameAndFitness      crossover  dimension              main\n",
       "seq32        788170632841      801332826         32      787202109505\n",
       "seq64       2906031184750     2846068753         64     2914316068621\n",
       "seq128     11592018426673    11123131912        128    11618067687760\n",
       "seq256     46240751572546    43730175402        256    46337018878324\n",
       "seq512    184758961209706   173372053697        512   185134636278632\n",
       "seq1024   739035844838824   693488214788       1024   740538545114528\n",
       "seq2048  2956143379355296  2773952859152       2048  2962154180458112"
      ]
     },
     "execution_count": 5,
     "metadata": {},
     "output_type": "execute_result"
    }
   ],
   "source": [
    "seqResults"
   ]
  },
  {
   "cell_type": "code",
   "execution_count": 6,
   "metadata": {},
   "outputs": [
    {
     "name": "stdout",
     "output_type": "stream",
     "text": [
      "mpi512 /home/user/scpd_fff/bench/512/results/mpi/seq/time.0.prof\n",
      "mpi256 /home/user/scpd_fff/bench/256/results/mpi/seq/time.0.prof\n",
      "mpi2048 /home/user/scpd_fff/bench/results2/mpi/seq_2048/time.0.prof\n"
     ]
    }
   ],
   "source": [
    "files = {}\n",
    "files['mpi256'] = '/home/user/scpd_fff/bench/256/results/mpi/seq/time.0.prof'\n",
    "files['mpi512'] = '/home/user/scpd_fff/bench/512/results/mpi/seq/time.0.prof'\n",
    "files['mpi2048'] = '/home/user/scpd_fff/bench/results2/mpi/seq_2048/time.0.prof'\n",
    "\n",
    "\n",
    "mpiResults = {}\n",
    "for k,v in files.items():\n",
    "    print(k,v)\n",
    "    mpiResults[k] = get_res(v,k[3:])\n",
    "\n",
    "mpiResults = pd.DataFrame(mpiResults).T\n",
    "mpiResults= mpiResults.sort_values(by='dimension')\n",
    "\n",
    "s = set()\n",
    "s.add('dimension')\n",
    "funs = list(set(mpiResults.T.index) - s)\n",
    "#for f in funs:\n",
    "#    sn.lmplot('dimension', f, data=mpiResults)\n",
    "#mpiResults"
   ]
  },
  {
   "cell_type": "code",
   "execution_count": 7,
   "metadata": {},
   "outputs": [
    {
     "name": "stdout",
     "output_type": "stream",
     "text": [
      "shm512 /home/user/scpd_fff/bench/512/results/shm/time.prof\n",
      "shm256 /home/user/scpd_fff/bench/256/results/shm/time.prof\n",
      "['GameAndFitness', 'crossover', 'main']\n"
     ]
    }
   ],
   "source": [
    "files = {}\n",
    "files['shm256'] = '/home/user/scpd_fff/bench/256/results/shm/time.prof'\n",
    "files['shm512'] = '/home/user/scpd_fff/bench/512/results/shm/time.prof'\n",
    "\n",
    "\n",
    "shmResults = {}\n",
    "for k,v in files.items():\n",
    "    print(k,v)\n",
    "    shmResults[k] = get_res(v,k[3:])\n",
    "\n",
    "shmResults = pd.DataFrame(shmResults).T\n",
    "shmResults= shmResults.sort_values(by='dimension')\n",
    "s = set()\n",
    "s.add('dimension')\n",
    "funs = list(set(shmResults.T.index) - s)\n",
    "print(funs)\n",
    "#for f in funs:\n",
    "    #sn.lmplot('dimension', f, data=shmResults)\n",
    "\n",
    "#shmResults"
   ]
  },
  {
   "cell_type": "code",
   "execution_count": 8,
   "metadata": {},
   "outputs": [
    {
     "data": {
      "text/html": [
       "<div>\n",
       "<style scoped>\n",
       "    .dataframe tbody tr th:only-of-type {\n",
       "        vertical-align: middle;\n",
       "    }\n",
       "\n",
       "    .dataframe tbody tr th {\n",
       "        vertical-align: top;\n",
       "    }\n",
       "\n",
       "    .dataframe thead th {\n",
       "        text-align: right;\n",
       "    }\n",
       "</style>\n",
       "<table border=\"1\" class=\"dataframe\">\n",
       "  <thead>\n",
       "    <tr style=\"text-align: right;\">\n",
       "      <th></th>\n",
       "      <th>cores</th>\n",
       "      <th>master</th>\n",
       "      <th>speedup</th>\n",
       "      <th>efficiency</th>\n",
       "      <th>ideal</th>\n",
       "    </tr>\n",
       "  </thead>\n",
       "  <tbody>\n",
       "    <tr>\n",
       "      <th>mpi4</th>\n",
       "      <td>4</td>\n",
       "      <td>60494279739034</td>\n",
       "      <td>3.060366</td>\n",
       "      <td>0.765091</td>\n",
       "      <td>4</td>\n",
       "    </tr>\n",
       "    <tr>\n",
       "      <th>mpi8</th>\n",
       "      <td>8</td>\n",
       "      <td>26310988144369</td>\n",
       "      <td>7.036400</td>\n",
       "      <td>0.879550</td>\n",
       "      <td>8</td>\n",
       "    </tr>\n",
       "    <tr>\n",
       "      <th>mpi12</th>\n",
       "      <td>12</td>\n",
       "      <td>19895006485077</td>\n",
       "      <td>9.305583</td>\n",
       "      <td>0.775465</td>\n",
       "      <td>12</td>\n",
       "    </tr>\n",
       "    <tr>\n",
       "      <th>mpi16</th>\n",
       "      <td>16</td>\n",
       "      <td>16175235341189</td>\n",
       "      <td>11.445561</td>\n",
       "      <td>0.715348</td>\n",
       "      <td>16</td>\n",
       "    </tr>\n",
       "    <tr>\n",
       "      <th>mpi20</th>\n",
       "      <td>20</td>\n",
       "      <td>14301287226500</td>\n",
       "      <td>12.945313</td>\n",
       "      <td>0.647266</td>\n",
       "      <td>20</td>\n",
       "    </tr>\n",
       "    <tr>\n",
       "      <th>mpi24</th>\n",
       "      <td>24</td>\n",
       "      <td>12374541277786</td>\n",
       "      <td>14.960929</td>\n",
       "      <td>0.623372</td>\n",
       "      <td>24</td>\n",
       "    </tr>\n",
       "  </tbody>\n",
       "</table>\n",
       "</div>"
      ],
      "text/plain": [
       "       cores          master    speedup  efficiency  ideal\n",
       "mpi4       4  60494279739034   3.060366    0.765091      4\n",
       "mpi8       8  26310988144369   7.036400    0.879550      8\n",
       "mpi12     12  19895006485077   9.305583    0.775465     12\n",
       "mpi16     16  16175235341189  11.445561    0.715348     16\n",
       "mpi20     20  14301287226500  12.945313    0.647266     20\n",
       "mpi24     24  12374541277786  14.960929    0.623372     24"
      ]
     },
     "execution_count": 8,
     "metadata": {},
     "output_type": "execute_result"
    }
   ],
   "source": [
    "files = {}\n",
    "files['mpi4'] = '/home/user/scpd_fff/bench/results2/mpi/seq4/time.0.prof'\n",
    "#files['mpi6'] = '/home/user/scpd_fff/bench/results2/mpi/seq6/time.0.prof'\n",
    "files['mpi8'] = '/home/user/scpd_fff/bench/results2/mpi/seq8/time.0.prof'\n",
    "files['mpi12'] = '/home/user/scpd_fff/bench/results2/mpi/seq12/time.0.prof'\n",
    "files['mpi16'] = '/home/user/scpd_fff/bench/results2/mpi/seq16/time.0.prof'\n",
    "files['mpi20'] = '/home/user/scpd_fff/bench/results2/mpi/seq20/time.0.prof'\n",
    "files['mpi24'] = '/home/user/scpd_fff/bench/512/results/mpi/seq/time.0.prof'\n",
    "\n",
    "mpiResults = {}\n",
    "for k,v in files.items():\n",
    "    mpiResults[k] = get_res(v,k[3:], key='cores')\n",
    "\n",
    "mpiResults = pd.DataFrame(mpiResults).T\n",
    "mpiResults= mpiResults.sort_values(by='cores')\n",
    "TIME = seqResults['main'].loc['seq512']\n",
    "s = set()\n",
    "s.add('cores')\n",
    "funs = list(set(mpiResults.T.index) - s)\n",
    "df = mpiResults.drop(['manage_slaves', 'slave'],axis=1)\n",
    "df['speedup'] = df['master'].apply(lambda x: TIME/x)\n",
    "df['efficiency'] = df['speedup'] / df['cores']\n",
    "df['ideal'] = df['cores']\n",
    "df"
   ]
  },
  {
   "cell_type": "code",
   "execution_count": 9,
   "metadata": {},
   "outputs": [
    {
     "name": "stdout",
     "output_type": "stream",
     "text": [
      "Speedup MPI seq\n"
     ]
    },
    {
     "data": {
      "image/png": "[encoded data removed]",
      "text/plain": [
       "<Figure size 432x288 with 1 Axes>"
      ]
     },
     "metadata": {
      "needs_background": "light"
     },
     "output_type": "display_data"
    }
   ],
   "source": [
    "fig, ax = plt.subplots()\n",
    "sn.pointplot('cores', 'ideal', data=df, ax=ax )\n",
    "pl = sn.pointplot('cores', 'speedup', data=df, ax=ax, color='green')\n",
    "print('Speedup MPI seq')\n",
    "pl.get_figure().savefig('mpi_speedup.svg')"
   ]
  },
  {
   "cell_type": "code",
   "execution_count": 10,
   "metadata": {},
   "outputs": [
    {
     "name": "stdout",
     "output_type": "stream",
     "text": [
      "Efficiency MPI seq\n"
     ]
    },
    {
     "data": {
      "image/png": "[encoded data removed]",
      "text/plain": [
       "<Figure size 432x288 with 1 Axes>"
      ]
     },
     "metadata": {
      "needs_background": "light"
     },
     "output_type": "display_data"
    }
   ],
   "source": [
    "fig, ax = plt.subplots()\n",
    "#sn.pointplot('cores', 'ideal', data=df, ax=ax )\n",
    "pl = sn.pointplot('cores', 'efficiency', data=df, ax=ax, color='green')\n",
    "pl.get_figure().savefig('mpi_efficency.svg')\n",
    "print('Efficiency MPI seq')"
   ]
  },
  {
   "cell_type": "code",
   "execution_count": 11,
   "metadata": {},
   "outputs": [
    {
     "data": {
      "text/html": [
       "<div>\n",
       "<style scoped>\n",
       "    .dataframe tbody tr th:only-of-type {\n",
       "        vertical-align: middle;\n",
       "    }\n",
       "\n",
       "    .dataframe tbody tr th {\n",
       "        vertical-align: top;\n",
       "    }\n",
       "\n",
       "    .dataframe thead th {\n",
       "        text-align: right;\n",
       "    }\n",
       "</style>\n",
       "<table border=\"1\" class=\"dataframe\">\n",
       "  <thead>\n",
       "    <tr style=\"text-align: right;\">\n",
       "      <th></th>\n",
       "      <th>GameAndFitness</th>\n",
       "      <th>cores</th>\n",
       "      <th>crossover</th>\n",
       "      <th>main</th>\n",
       "      <th>speedup</th>\n",
       "      <th>efficiency</th>\n",
       "      <th>ideal</th>\n",
       "    </tr>\n",
       "  </thead>\n",
       "  <tbody>\n",
       "    <tr>\n",
       "      <th>shm2</th>\n",
       "      <td>2317223859413790</td>\n",
       "      <td>2</td>\n",
       "      <td>10546375459110</td>\n",
       "      <td>96222269839350</td>\n",
       "      <td>1.924031</td>\n",
       "      <td>0.962016</td>\n",
       "      <td>2</td>\n",
       "    </tr>\n",
       "    <tr>\n",
       "      <th>shm4</th>\n",
       "      <td>83606099797470</td>\n",
       "      <td>4</td>\n",
       "      <td>308222537280</td>\n",
       "      <td>89463108510750</td>\n",
       "      <td>2.069396</td>\n",
       "      <td>0.517349</td>\n",
       "      <td>4</td>\n",
       "    </tr>\n",
       "    <tr>\n",
       "      <th>shm8</th>\n",
       "      <td>51364726261695</td>\n",
       "      <td>8</td>\n",
       "      <td>557607607110</td>\n",
       "      <td>56589150306120</td>\n",
       "      <td>3.271557</td>\n",
       "      <td>0.408945</td>\n",
       "      <td>8</td>\n",
       "    </tr>\n",
       "  </tbody>\n",
       "</table>\n",
       "</div>"
      ],
      "text/plain": [
       "        GameAndFitness  cores       crossover            main   speedup  \\\n",
       "shm2  2317223859413790      2  10546375459110  96222269839350  1.924031   \n",
       "shm4    83606099797470      4    308222537280  89463108510750  2.069396   \n",
       "shm8    51364726261695      8    557607607110  56589150306120  3.271557   \n",
       "\n",
       "      efficiency  ideal  \n",
       "shm2    0.962016      2  \n",
       "shm4    0.517349      4  \n",
       "shm8    0.408945      8  "
      ]
     },
     "execution_count": 11,
     "metadata": {},
     "output_type": "execute_result"
    }
   ],
   "source": [
    "files = {}\n",
    "files['shm2'] = '/home/user/scpd_fff/bench/results3/shm_2p/time.prof' # 150g\n",
    "files['shm4'] = '/home/user/scpd_fff/bench/results3/shm_4p/time.prof' # 150g\n",
    "files['shm8'] = '/home/user/scpd_fff/bench/results3/shm_8p_512g_10it/time.prof' # 10g\n",
    "\n",
    "\n",
    "shmResults = {}\n",
    "for k,v in files.items():\n",
    "    shmResults[k] = get_res(v,k[3:], key='cores')\n",
    "\n",
    "shmResults = pd.DataFrame(shmResults)\n",
    "shmResults['shm8'] = shmResults['shm8'] * 15\n",
    "shmResults['shm8']['cores'] = 8\n",
    "shmResults['shm4'] = shmResults['shm4'] * 30\n",
    "shmResults['shm4']['cores'] = 4\n",
    "shmResults['shm2'] = shmResults['shm2'] * 30\n",
    "shmResults['shm2']['cores'] = 2\n",
    "shmResults = shmResults.T\n",
    "shmResults= shmResults.sort_values(by='cores')\n",
    "shmResults['cores'] = shmResults['cores']\n",
    "TIME = seqResults['main'].loc['seq512']\n",
    "s = set()\n",
    "s.add('cores')\n",
    "funs = list(set(shmResults.T.index) - s)\n",
    "df = shmResults.drop([],axis=1)\n",
    "df['speedup'] = df['main'].apply(lambda x: TIME/x)\n",
    "df['efficiency'] = df['speedup'] / (df['cores'])\n",
    "df['ideal'] = df['cores']\n",
    "df"
   ]
  },
  {
   "cell_type": "code",
   "execution_count": 12,
   "metadata": {},
   "outputs": [
    {
     "name": "stdout",
     "output_type": "stream",
     "text": [
      "Speedup SHM\n"
     ]
    },
    {
     "data": {
      "image/png": "[encoded data removed]",
      "text/plain": [
       "<Figure size 432x288 with 1 Axes>"
      ]
     },
     "metadata": {
      "needs_background": "light"
     },
     "output_type": "display_data"
    }
   ],
   "source": [
    "fig, ax = plt.subplots()\n",
    "from pylab import *\n",
    "#ax.set_xticks([0., 0.5, 1.])\n",
    "sn.pointplot('cores', 'ideal', data=df, ax=ax )\n",
    "pl = sn.pointplot('cores', 'speedup', data=df, ax=ax, color='green')\n",
    "print('Speedup SHM')\n",
    "pl.get_figure().savefig('speedup_shm.svg')"
   ]
  },
  {
   "cell_type": "code",
   "execution_count": 13,
   "metadata": {},
   "outputs": [
    {
     "name": "stdout",
     "output_type": "stream",
     "text": [
      "Efficiency SHM\n"
     ]
    },
    {
     "data": {
      "image/png": "[encoded data removed]",
      "text/plain": [
       "<Figure size 432x288 with 1 Axes>"
      ]
     },
     "metadata": {
      "needs_background": "light"
     },
     "output_type": "display_data"
    }
   ],
   "source": [
    "fig, ax = plt.subplots()\n",
    "#sn.pointplot('cores', 'ideal', data=df, ax=ax )\n",
    "pl = sn.pointplot('cores', 'efficiency', data=df, ax=ax, color='green')\n",
    "pl.get_figure().savefig('efficency_shm.svg')\n",
    "print('Efficiency SHM')"
   ]
  },
  {
   "cell_type": "code",
   "execution_count": null,
   "metadata": {},
   "outputs": [],
   "source": []
  },
  {
   "cell_type": "code",
   "execution_count": 26,
   "metadata": {},
   "outputs": [
    {
     "data": {
      "text/html": [
       "<div>\n",
       "<style scoped>\n",
       "    .dataframe tbody tr th:only-of-type {\n",
       "        vertical-align: middle;\n",
       "    }\n",
       "\n",
       "    .dataframe tbody tr th {\n",
       "        vertical-align: top;\n",
       "    }\n",
       "\n",
       "    .dataframe thead th {\n",
       "        text-align: right;\n",
       "    }\n",
       "</style>\n",
       "<table border=\"1\" class=\"dataframe\">\n",
       "  <thead>\n",
       "    <tr style=\"text-align: right;\">\n",
       "      <th></th>\n",
       "      <th>cores</th>\n",
       "      <th>master</th>\n",
       "      <th>speedup</th>\n",
       "      <th>efficiency</th>\n",
       "      <th>ideal</th>\n",
       "    </tr>\n",
       "  </thead>\n",
       "  <tbody>\n",
       "    <tr>\n",
       "      <th>com24</th>\n",
       "      <td>24</td>\n",
       "      <td>14345757891300</td>\n",
       "      <td>12.905183</td>\n",
       "      <td>0.537716</td>\n",
       "      <td>24</td>\n",
       "    </tr>\n",
       "  </tbody>\n",
       "</table>\n",
       "</div>"
      ],
      "text/plain": [
       "       cores          master    speedup  efficiency  ideal\n",
       "com24     24  14345757891300  12.905183    0.537716     24"
      ]
     },
     "execution_count": 26,
     "metadata": {},
     "output_type": "execute_result"
    }
   ],
   "source": [
    "files = {}\n",
    "files['com24'] = '/home/user/scpd_fff/cgl_mpi/time.0.prof' # 10g\n",
    "\n",
    "mpiResults = {}\n",
    "for k,v in files.items():\n",
    "    mpiResults[k] = get_res(v,k[3:], key='cores')\n",
    "\n",
    "mpiResults = pd.DataFrame(mpiResults)\n",
    "mpiResults['com24'] = mpiResults['com24'] * 30\n",
    "mpiResults['com24']['cores'] = 24\n",
    "mpiResults = mpiResults.T\n",
    "mpiResults= mpiResults.sort_values(by='cores')\n",
    "TIME = seqResults['main'].loc['seq512']\n",
    "s = set()\n",
    "s.add('cores')\n",
    "funs = list(set(mpiResults.T.index) - s)\n",
    "df = mpiResults.drop(['manage_slaves', 'slave'],axis=1)\n",
    "df['speedup'] = df['master'].apply(lambda x: TIME/x)\n",
    "df['efficiency'] = df['speedup'] / df['cores']\n",
    "df['ideal'] = df['cores']\n",
    "df\n"
   ]
  }
 ],
 "metadata": {
  "kernelspec": {
   "display_name": "Python 3",
   "language": "python",
   "name": "python3"
  },
  "language_info": {
   "codemirror_mode": {
    "name": "ipython",
    "version": 3
   },
   "file_extension": ".py",
   "mimetype": "text/x-python",
   "name": "python",
   "nbconvert_exporter": "python",
   "pygments_lexer": "ipython3",
   "version": "3.5.2"
  }
 },
 "nbformat": 4,
 "nbformat_minor": 2
}
